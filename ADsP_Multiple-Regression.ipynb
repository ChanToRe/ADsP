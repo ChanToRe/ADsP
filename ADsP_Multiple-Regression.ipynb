{
 "cells": [
  {
   "cell_type": "markdown",
   "id": "72158f6f-8eeb-4bbd-bbbe-d5010b275b74",
   "metadata": {},
   "source": [
    "### 다중회귀분석"
   ]
  },
  {
   "cell_type": "code",
   "execution_count": 8,
   "id": "a9aafab1-30c1-45d9-9637-4c296e106731",
   "metadata": {},
   "outputs": [],
   "source": [
    "data <- lm(rating~., data=attitude)"
   ]
  },
  {
   "cell_type": "code",
   "execution_count": 9,
   "id": "93527a14-369e-44e0-b765-d3c86cb66ade",
   "metadata": {},
   "outputs": [
    {
     "data": {
      "text/plain": [
       "\n",
       "Call:\n",
       "lm(formula = rating ~ ., data = attitude)\n",
       "\n",
       "Coefficients:\n",
       "(Intercept)   complaints   privileges     learning       raises     critical  \n",
       "   10.78708      0.61319     -0.07305      0.32033      0.08173      0.03838  \n",
       "    advance  \n",
       "   -0.21706  \n"
      ]
     },
     "metadata": {},
     "output_type": "display_data"
    }
   ],
   "source": [
    "data"
   ]
  },
  {
   "cell_type": "code",
   "execution_count": 11,
   "id": "9b31936c-f039-4173-ba6f-5b7154a52cbb",
   "metadata": {},
   "outputs": [
    {
     "data": {
      "text/plain": [
       "\n",
       "Call:\n",
       "lm(formula = rating ~ ., data = attitude)\n",
       "\n",
       "Residuals:\n",
       "     Min       1Q   Median       3Q      Max \n",
       "-10.9418  -4.3555   0.3158   5.5425  11.5990 \n",
       "\n",
       "Coefficients:\n",
       "            Estimate Std. Error t value Pr(>|t|)    \n",
       "(Intercept) 10.78708   11.58926   0.931 0.361634    \n",
       "complaints   0.61319    0.16098   3.809 0.000903 ***\n",
       "privileges  -0.07305    0.13572  -0.538 0.595594    \n",
       "learning     0.32033    0.16852   1.901 0.069925 .  \n",
       "raises       0.08173    0.22148   0.369 0.715480    \n",
       "critical     0.03838    0.14700   0.261 0.796334    \n",
       "advance     -0.21706    0.17821  -1.218 0.235577    \n",
       "---\n",
       "Signif. codes:  0 ‘***’ 0.001 ‘**’ 0.01 ‘*’ 0.05 ‘.’ 0.1 ‘ ’ 1\n",
       "\n",
       "Residual standard error: 7.068 on 23 degrees of freedom\n",
       "Multiple R-squared:  0.7326,\tAdjusted R-squared:  0.6628 \n",
       "F-statistic:  10.5 on 6 and 23 DF,  p-value: 1.24e-05\n"
      ]
     },
     "metadata": {},
     "output_type": "display_data"
    }
   ],
   "source": [
    "summary(data)"
   ]
  },
  {
   "cell_type": "markdown",
   "id": "64667114-0dc8-49e0-89ab-4dbffed9f27b",
   "metadata": {},
   "source": [
    "1. Residuals : Data의 잔차\n",
    "2. Adjusted R-squared : 결정계수 -> 설명력\n",
    "3. p-value : 유의확률 -> 타당성\n",
    "4. Pr(>|t|) : 독립변수가 종속변수에게 주는 영향 -> 영향력\n",
    "5. Std. Error : 표준오차\n",
    "6. t value : 비표준화 계수"
   ]
  },
  {
   "cell_type": "markdown",
   "id": "1b5cf3af-f87b-4b66-bf09-7cab33614326",
   "metadata": {},
   "source": [
    "#### 분석 해석\n",
    "각 개별 변수들의 유의확률을 확인한 결과 'complaints' 변수만 유의미한 영향을 주는 것을 확인할 수 있다.\n",
    "\n",
    "유의수준을 0.05라고 가정했을 때, p-value는 1.24e-05이므로 0.05보다 훨씬 작은 값을 가진다.\n",
    "그러므로 해당 회귀모형은 통계적으로 타당하다고 할 수 있다.\n",
    "\n",
    "통계적으로 타당하지만 결정계수는 0.6628로 약 66%의 설명력밖에 가지지 못하는 것을 알 수 있다.\n",
    "실제 유의미성을 지니기엔 다소 부족한 결정계수이다."
   ]
  }
 ],
 "metadata": {
  "kernelspec": {
   "display_name": "R",
   "language": "R",
   "name": "ir"
  },
  "language_info": {
   "codemirror_mode": "r",
   "file_extension": ".r",
   "mimetype": "text/x-r-source",
   "name": "R",
   "pygments_lexer": "r",
   "version": "4.1.0"
  }
 },
 "nbformat": 4,
 "nbformat_minor": 5
}
